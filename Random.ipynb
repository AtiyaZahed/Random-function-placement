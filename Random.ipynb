{
 "cells": [
  {
   "cell_type": "code",
   "execution_count": 478,
   "id": "bb2bb490-6b20-46b0-bdfd-066525e08b83",
   "metadata": {},
   "outputs": [],
   "source": [
    "import threading\n",
    "import queue\n",
    "import time\n",
    "import random\n",
    "import numpy as np\n",
    "import concurrent.futures"
   ]
  },
  {
   "cell_type": "code",
   "execution_count": 555,
   "id": "aa44733d-72a7-46f8-9da0-19213d030b5e",
   "metadata": {},
   "outputs": [],
   "source": [
    "\n",
    "N=5\n",
    "W=4\n",
    "U=3\n",
    "V=2\n",
    "\n",
    "# properties of any function\n",
    "Fun_name=['cpu','mem gig','Disk','BW','deadline msec']\n",
    "Function_Resource=np.array([[0,0,0,0,0,0],\n",
    "              [0,1/5, 128/5120, 128/10240, 128/4096, 10],\n",
    "          [0,2/5, 256/5120, 128/10240, 256/4096 ,20],\n",
    "          [0,4/5 ,128/5120 ,256/10240 ,256/4096, 40],\n",
    "          [0,1/5, 100/5120 ,10/10240  ,10/4096 ,80],\n",
    "          [0,2/5 ,200/5120, 20/10240, 10/4096, 160]])\n",
    "\n",
    "#Resourse of edge(1-3) and cloud(4-5)\n",
    "Edge_Cloud_name=['cpu','mem','Disk','BW']\n",
    "Edge_Cloud_Resource= np.array([[0,0,0,0,0],\n",
    "                      [0,.2, 1024/5120, 1024/10240 ,1024/4096],\n",
    "                      [0,.4, 512/5120, 1024/10240, 2048/4096],\n",
    "                      [0,.2 ,256/5120, 1024/10240, 4096/4096],\n",
    "                      [0,.8 ,2049/5120, 10240/10240, 4096/4096],\n",
    "                      [0,1 ,5120/5120,10240/10240, 4096/4096]])\n",
    "Edge_Cloud_Remind=Edge_Cloud_Resource\n",
    "\n",
    "#Cost of device edge(1-3) cloude(4-5)\n",
    "Edge_Cloud_Cost=np.array([[0,0,0,0,0],\n",
    "                          [0,10,10,5,5],\n",
    "                          [0,10,10,5,5],\n",
    "                          [0,10,10,5,5],\n",
    "                          [0,30,30,10,10],\n",
    "                          [0,30,30,10,10]])\n",
    "\n",
    "#lambda terminal j of function i(terminal=row(1-4)), (function=column(1-5))                  \n",
    "Terminal_Fun_Lambda=np.array([[0,0,0,0,0,0],\n",
    "                        [0,1,2,10,3,4],\n",
    "                        [0,1,2,3,4,5],\n",
    "                        [0,0.4,3,2,1,10],\n",
    "                        [0,4,10,3,2,1]])\n",
    "E_D_Lambda=np.array([0,10,5,10])\n",
    "C_D_Lambda=np.array([0,20,20])\n",
    "\n",
    "#Connection delay Devices to Terminal(row: edge(1-3) cloud(4-5), terminal: column(1-4))\n",
    "Connection_Latency=np.array([[0,0,0,0,0,0],\n",
    "                       [0,1, 2, 1, 10, 20], [0,1.5, 2.5, 1.5, 10, 20], [0,3, 1, 2, 15, 15], [0,2, 2, 1, 12, 16]])\n",
    "\n",
    "utilization=np.array([0,0,0,0,0])                       \n",
    "# boolian variables\n",
    "y=np.zeros((U,W,N),dtype=int)\n",
    "z=np.zeros((V,W,N),dtype=int)\n",
    "\n",
    "# constant for cost\n",
    "A = 1\n",
    "B = 5\n",
    "D = 10\n",
    "H = 100\n",
    "# Cost of any function on any Device(row: edge(1-3) cloud(4-5), function: column(1-5))\n",
    "Cost_Device_Function=np.zeros((U+V+1,N+1),dtype=float)\n",
    "# MU of any function on any Device(row: edge(1-3) cloud(4-5), function: column(1-5))\n",
    "MU_Device_Function=np.zeros((U+V+1,N+1),dtype=float)\n",
    "func_res_runtim = [0,.002, .004, .008, .001, .004]\n",
    "\n",
    "# number of executed functions\n",
    "M=10\n",
    "\n",
    "#Total Delay\n",
    "Delay=0\n",
    "\n",
    "# Utilization of any device\n",
    "UTI_Device=np.zeros((U+V+1),dtype=float)\n",
    "Cost_function=np.zeros(U+V+1,dtype=float)\n",
    "#Total Cost\n",
    "Cost=0\n",
    "\n",
    "#Tproc terminal j of function i(terminal=row(1-4)), (function=column(1-5))                  \n",
    "Tproc=np.zeros((U+V+1),dtype=float)\n",
    "Latency=np.zeros((U+V+1),dtype=float)\n",
    "Cost_Function=np.zeros((U+V+1),dtype=float)\n",
    "Execution_Time=np.zeros((U+V+1),dtype=float)\n",
    "                        \n",
    "costlist_edg = [(10 / A), (10 / B), (5 / D), (5 / H)]\n",
    "costlist_server = [(30 / A), (30 / B), (10 / D), (10 / H)]                        \n",
    "                        \n",
    "                    "
   ]
  },
  {
   "cell_type": "code",
   "execution_count": 556,
   "id": "ace5f302-f9f4-4c18-8fae-ccec1bbe3193",
   "metadata": {},
   "outputs": [
    {
     "name": "stdout",
     "output_type": "stream",
     "text": [
      "[[ 0.          0.          0.          0.          0.          0.        ]\n",
      " [ 0.          2.0578125   4.109375    8.065625    2.03967285  4.07922363]\n",
      " [ 0.          2.0578125   4.109375    8.065625    2.03967285  4.07922363]\n",
      " [ 0.          2.0578125   4.109375    8.065625    2.03967285  4.07922363]\n",
      " [ 0.          6.165625   12.31875    24.18125     6.1184082  12.23657227]\n",
      " [ 0.          6.165625   12.31875    24.18125     6.1184082  12.23657227]]\n"
     ]
    }
   ],
   "source": [
    "#محاسبه ی هزینه ی اجرای توابع روی دستگاههای مختلف\n",
    "def Cost_DF():\n",
    "    \n",
    "    for j in range(1,U+V+1):\n",
    "        for i in range (1,N+1):\n",
    "            if (j<=3):\n",
    "                Cost_Device_Function[j,i]=(costlist_edg[0]*Function_Resource[i,1]) + (costlist_edg[1]*Function_Resource[i,2])+(costlist_edg[2]*Function_Resource[i,3])+(costlist_edg[3]*Function_Resource[i,4])\n",
    "            else:\n",
    "                Cost_Device_Function[j,i]=(costlist_server[0]*Function_Resource[i,1]) + (costlist_server[1]*Function_Resource[i,2])+(costlist_server[2]*Function_Resource[i,3])+(costlist_server[3]*Function_Resource[i,4])\n",
    "    print(Cost_Device_Function) \n",
    "   \n",
    "Cost_DF()"
   ]
  },
  {
   "cell_type": "code",
   "execution_count": 557,
   "id": "842a03e9-7163-456a-8fce-e3c8570c5887",
   "metadata": {},
   "outputs": [
    {
     "name": "stdout",
     "output_type": "stream",
     "text": [
      "[[0.    0.    0.    0.    0.    0.   ]\n",
      " [0.    0.002 0.004 0.008 0.001 0.004]\n",
      " [0.    0.002 0.004 0.008 0.001 0.004]\n",
      " [0.    0.002 0.004 0.008 0.001 0.004]\n",
      " [0.    0.002 0.004 0.008 0.001 0.004]\n",
      " [0.    0.002 0.004 0.008 0.001 0.004]]\n"
     ]
    }
   ],
   "source": [
    "#محاسبه ی زمان اجرای هر تابع در دستگاه های مختلف بر اساس پردازشگر\n",
    "def Cal_MU():\n",
    "    for j in range(1,U+V+1):\n",
    "        for i in range (1,N+1):\n",
    "            MU_Device_Function[j,i]=func_res_runtim[i]\n",
    "    print(MU_Device_Function)        \n",
    "    \n",
    "\n",
    "Cal_MU()\n"
   ]
  },
  {
   "cell_type": "code",
   "execution_count": 558,
   "id": "bda8fa33-2f18-4ae3-8bb9-3750b6e0ab28",
   "metadata": {},
   "outputs": [],
   "source": [
    "# queques\n",
    "Q=queue.Queue()\n",
    "q_E1=queue.Queue()\n",
    "q_E2=queue.Queue()\n",
    "q_E3=queue.Queue()\n",
    "q_C1=queue.Queue()\n",
    "q_C2=queue.Queue()"
   ]
  },
  {
   "cell_type": "code",
   "execution_count": 559,
   "id": "ed294a41-5712-4a9a-85fb-0f836847a85c",
   "metadata": {},
   "outputs": [],
   "source": [
    "# تولید درخواست تابع از دستگاههای ترمینال\n",
    "def produce_function(id_fun, id_Dv, delay):\n",
    "    while Q.qsize()<M:\n",
    "        # اضافه کردن عنصر به صف\n",
    "        Q.put((id_fun, id_Dv, time.time()))\n",
    "        print(f\"Function {id_fun} of {id_Dv} produced at {time.time()}\")\n",
    "        # تاخیر تصادفی\n",
    "        time.sleep(delay)"
   ]
  },
  {
   "cell_type": "code",
   "execution_count": 560,
   "id": "132eb0ce-97ed-43fe-973d-e2ae854f28a1",
   "metadata": {},
   "outputs": [],
   "source": [
    "# تعیین تعداد نخ‌ها\n",
    "num_threads = 20\n",
    "\n",
    "# تعیین زمان اجرای هر نخ\n",
    "thread_delay = 0.5  # زمان تاخیر به ثانیه\n",
    "\n",
    "\n",
    "\n",
    "# تعریف تابع برای ایجاد نخ‌ها\n",
    "def start_producers():\n",
    "    with concurrent.futures.ThreadPoolExecutor(max_workers=num_threads) as executor:\n",
    "        # ایجاد تمام نخ‌ها به صورت همزمان\n",
    "        futures = {executor.submit(produce_function, i % 5 + 1, i % 4 + 1, Terminal_Fun_Lambda[i % 4 + 1, i % 5 + 1]): i for i in range(1, num_threads + 1)}\n",
    "        # منتظر ماندن تا اتمام همه نخ‌ها\n",
    "        for future in concurrent.futures.as_completed(futures):\n",
    "            try:\n",
    "                future.result()\n",
    "            except Exception as exc:\n",
    "                print(f'generated an exception: {exc}')\n",
    "\n"
   ]
  },
  {
   "cell_type": "code",
   "execution_count": 561,
   "id": "dd86ba07-4666-4d81-873c-ea7f928ab822",
   "metadata": {},
   "outputs": [
    {
     "name": "stdout",
     "output_type": "stream",
     "text": [
      "Function 2 of 2 produced at 1722865192.0980046\n",
      "Function 3 of 3 produced at 1722865192.0997446\n",
      "Function 4 of 4 produced at 1722865192.0997446\n",
      "Function 5 of 1 produced at 1722865192.0997446\n",
      "Function 1 of 2 produced at 1722865192.100745\n",
      "Function 2 of 3 produced at 1722865192.100745\n",
      "Function 3 of 4 produced at 1722865192.1012495\n",
      "Function 4 of 1 produced at 1722865192.1012495\n",
      "Function 5 of 2 produced at 1722865192.1018448\n",
      "Function 1 of 3 produced at 1722865192.1018448\n"
     ]
    }
   ],
   "source": [
    "# اجرای توابع\n",
    "start_time = time.time()\n",
    "start_producers()\n",
    "# اجرای برنامه به مدت 1 ثانیه\n",
    "time.sleep(1)"
   ]
  },
  {
   "cell_type": "code",
   "execution_count": null,
   "id": "2836bae7-47b4-43ae-a058-4f9c2bff26f0",
   "metadata": {},
   "outputs": [],
   "source": [
    "\n",
    "\n"
   ]
  },
  {
   "cell_type": "code",
   "execution_count": 562,
   "id": "08df65ea-cac8-4155-908a-476040c202fb",
   "metadata": {},
   "outputs": [
    {
     "name": "stderr",
     "output_type": "stream",
     "text": [
      "Exception in thread Thread-220 (Exe_in_CD2):\n",
      "Traceback (most recent call last):\n",
      "  File \"C:\\Program Files\\Python312\\Lib\\threading.py\", line 1073, in _bootstrap_inner\n",
      "    self.run()\n",
      "  File \"C:\\Users\\A.Zahed\\AppData\\Roaming\\Python\\Python312\\site-packages\\ipykernel\\ipkernel.py\", line 766, in run_closure\n",
      "    _threading_Thread_run(self)\n",
      "  File \"C:\\Program Files\\Python312\\Lib\\threading.py\", line 1010, in run\n",
      "    self._target(*self._args, **self._kwargs)\n",
      "  File \"C:\\Users\\A.Zahed\\AppData\\Local\\Temp\\ipykernel_15296\\2228327869.py\", line 64, in Exe_in_CD2\n",
      "IndexError: index 5 is out of bounds for axis 0 with size 5\n"
     ]
    },
    {
     "name": "stdout",
     "output_type": "stream",
     "text": [
      "2\n",
      "3\n",
      "4\n",
      "5\n",
      "1\n",
      "2\n",
      "3\n",
      "4\n",
      "5\n",
      "1\n"
     ]
    }
   ],
   "source": [
    "import threading\n",
    "\n",
    "def Exe_in_ED1():\n",
    "    while q_E1.qsize()>0:\n",
    "        (i,j,a_t)=q_E1.get()\n",
    "        Tproc[1]=1/(0.0001+(MU_Device_Function[j,i]-(1/E_D_Lambda[1])))\n",
    "        Latency[1]=2*Connection_Latency[1,j]\n",
    "        Execution_Time[1]=2*Latency[1]+MU_Device_Function[j,i] #Tproc[1]\n",
    "        Cost_Function[1]+=Cost_Device_Function[1,i]\n",
    "        utilization[0]+=1\n",
    "        Edge_Cloud_Remind[1,1]+=Function_Resource[i,1]\n",
    "        Edge_Cloud_Remind[1,2]+=Function_Resource[i,2]\n",
    "        Edge_Cloud_Remind[1,3]+=Function_Resource[i,3]\n",
    "        Edge_Cloud_Remind[1,4]+=Function_Resource[i,4]\n",
    "        \n",
    "    pass\n",
    "\n",
    "def Exe_in_ED2():\n",
    "    while q_E2.qsize()>0:\n",
    "        (i,j,a_t)=q_E2.get()\n",
    "        Tproc[2]=1/(0.0001+(MU_Device_Function[j,i]-(1/E_D_Lambda[2])))\n",
    "        Latency[2]=2*Connection_Latency[2,j]\n",
    "        Execution_Time[2]=2*Latency[2]+MU_Device_Function[j,i] #Tproc[2]\n",
    "        Cost_Function[2]+=Cost_Device_Function[2,i]\n",
    "        utilization[1]+=1\n",
    "        Edge_Cloud_Remind[2,1]+=Function_Resource[i,1]\n",
    "        Edge_Cloud_Remind[2,2]+=Function_Resource[i,2]\n",
    "        Edge_Cloud_Remind[2,3]+=Function_Resource[i,3]\n",
    "        Edge_Cloud_Remind[2,4]+=Function_Resource[i,4]\n",
    "        \n",
    "    pass\n",
    "\n",
    "def Exe_in_ED3():\n",
    "    while q_E3.qsize()>0:\n",
    "        (i,j,a_t)=q_E3.get()\n",
    "        Tproc[3]=1/(0.0001+(MU_Device_Function[j,i]-(1/E_D_Lambda[3])))\n",
    "        Latency[3]=2*Connection_Latency[3,j]\n",
    "        Execution_Time[3]=2*Latency[3]+MU_Device_Function[j,i] #Tproc[3]\n",
    "        Cost_Function[3]+=Cost_Device_Function[3,i]\n",
    "        utilization[2]+=1\n",
    "        Edge_Cloud_Remind[3,1]+=Function_Resource[i,1]\n",
    "        Edge_Cloud_Remind[3,2]+=Function_Resource[i,2]\n",
    "        Edge_Cloud_Remind[3,3]+=Function_Resource[i,3]\n",
    "        Edge_Cloud_Remind[3,4]+=Function_Resource[i,4]\n",
    "    pass\n",
    "\n",
    "def Exe_in_CD1():\n",
    "    while q_C1.qsize()>0:\n",
    "        (i,j,a_t)=q_C1.get()\n",
    "        Tproc[4]=1/(0.0001+(MU_Device_Function[j,i]-(1/C_D_Lambda[1])))\n",
    "        Latency[4]=2*Connection_Latency[4,j]\n",
    "        Execution_Time[4]=2*Latency[4]+MU_Device_Function[j,i] #Tproc[4]\n",
    "        Cost_Function[4]+=Cost_Device_Function[4,i]\n",
    "        Edge_Cloud_Remind[4,1]+=Function_Resource[i,1]\n",
    "        Edge_Cloud_Remind[4,2]+=Function_Resource[i,2]\n",
    "        Edge_Cloud_Remind[4,3]+=Function_Resource[i,3]\n",
    "        Edge_Cloud_Remind[4,4]+=Function_Resource[i,4]\n",
    "    pass\n",
    "\n",
    "def Exe_in_CD2():\n",
    "    while q_C2.qsize()>0:\n",
    "        (i,j,a_t)=q_C2.get()\n",
    "        Tproc[5]=1/(0.0001+(MU_Device_Function[j,i]-(1/C_D_Lambda[2])))\n",
    "        Latency[5]=2*Connection_Latency[5,j]\n",
    "        Execution_Time[5]=2*Latency[5]+MU_Device_Function[j,i] #Tproc[5]\n",
    "        Cost_Function[5]+=Cost_Device_Function[5,i]\n",
    "        Edge_Cloud_Remind[5,1]+=Function_Resource[i,1]\n",
    "        Edge_Cloud_Remind[5,2]+=Function_Resource[i,2]\n",
    "        Edge_Cloud_Remind[5,3]+=Function_Resource[i,3]\n",
    "        Edge_Cloud_Remind[5,4]+=Function_Resource[i,4]\n",
    "    pass\n",
    "\n",
    "       \n",
    "def random_agent():\n",
    "    while Q.qsize()>=1:\n",
    "        (f,d,t)=Q.get()\n",
    "        print(f)\n",
    "        j=random.randint(1,5)\n",
    "        if (j==1):\n",
    "            q_E1.put((f,d,t))\n",
    "            \n",
    "            \n",
    "            #E_D_Lambda[1]+=Terminal_Fun_Lambda[d,f]\n",
    "            Edge_Cloud_Remind[1,1]-=Function_Resource[f,1]\n",
    "            Edge_Cloud_Remind[1,2]-=Function_Resource[f,2]\n",
    "            Edge_Cloud_Remind[1,3]-=Function_Resource[f,3]\n",
    "            Edge_Cloud_Remind[1,4]-=Function_Resource[f,4]\n",
    "        elif (j==2):\n",
    "            q_E2.put((f,d,t))\n",
    "            \n",
    "            \n",
    "            #E_D_Lambda[2]+=Terminal_Fun_Lambda[d,f]\n",
    "            Edge_Cloud_Remind[2,1]-=Function_Resource[f,1]\n",
    "            Edge_Cloud_Remind[2,2]-=Function_Resource[f,2]\n",
    "            Edge_Cloud_Remind[2,3]-=Function_Resource[f,3]\n",
    "            Edge_Cloud_Remind[2,4]-=Function_Resource[f,4]\n",
    "        elif(j==3):\n",
    "            q_E3.put((f,d,t))\n",
    "            \n",
    "            \n",
    "            #E_D_Lambda[3]+=Terminal_Fun_Lambda[d,f]\n",
    "            Edge_Cloud_Remind[3,1]-=Function_Resource[f,1]\n",
    "            Edge_Cloud_Remind[3,2]-=Function_Resource[f,2]\n",
    "            Edge_Cloud_Remind[3,3]-=Function_Resource[f,3]\n",
    "            Edge_Cloud_Remind[3,4]-=Function_Resource[f,4]\n",
    "        elif(j==4):\n",
    "            q_C1.put((f,d,t))\n",
    "            \n",
    "            #E_D_Lambda[1]+=Terminal_Fun_Lambda[d,f]\n",
    "            Edge_Cloud_Remind[4,1]-=Function_Resource[f,1]\n",
    "            Edge_Cloud_Remind[4,2]-=Function_Resource[f,2]\n",
    "            Edge_Cloud_Remind[4,3]-=Function_Resource[f,3]\n",
    "            Edge_Cloud_Remind[4,4]-=Function_Resource[f,4]\n",
    "        elif(j==5):\n",
    "            q_C2.put((f,d,t))\n",
    "            \n",
    "            #C_D_Lambda[2]+=Terminal_Fun_Lambda[d,f]\n",
    "            Edge_Cloud_Remind[5,1]-=Function_Resource[f,1]\n",
    "            Edge_Cloud_Remind[5,2]-=Function_Resource[f,2]\n",
    "            Edge_Cloud_Remind[5,3]-=Function_Resource[f,3]\n",
    "            Edge_Cloud_Remind[5,4]-=Function_Resource[f,4]     \n",
    "        pass\n",
    "\n",
    "def main():\n",
    "    # Create threads for each function\n",
    "    thread_random=threading.Thread(target=random_agent)\n",
    "    thread_ED1 = threading.Thread(target=Exe_in_ED1)\n",
    "    thread_ED2 = threading.Thread(target=Exe_in_ED2)\n",
    "    thread_ED3 = threading.Thread(target=Exe_in_ED3)\n",
    "    thread_CD1 = threading.Thread(target=Exe_in_CD1)\n",
    "    thread_CD2 = threading.Thread(target=Exe_in_CD2)\n",
    "  \n",
    "\n",
    "    # Start the threads\n",
    "    thread_random.start()\n",
    "    thread_ED1.start()\n",
    "    thread_ED2.start()\n",
    "    thread_ED3.start()\n",
    "    thread_CD1.start()\n",
    "    thread_CD2.start()\n",
    "\n",
    "    # Wait for all threads to finish\n",
    "    thread_random.join()\n",
    "    thread_ED1.join()\n",
    "    thread_ED2.join()\n",
    "    thread_ED3.join()\n",
    "    thread_CD1.join()\n",
    "    thread_CD2.join()\n",
    "\n",
    "__name__=\"__main__\"\n",
    "if __name__ == \"__main__\": \n",
    "    main()"
   ]
  },
  {
   "cell_type": "code",
   "execution_count": 563,
   "id": "683d0b7e-562f-4d0e-b9d1-b7d26158df94",
   "metadata": {},
   "outputs": [
    {
     "name": "stdout",
     "output_type": "stream",
     "text": [
      "0\n",
      "0\n",
      "0\n",
      "0\n",
      "1\n"
     ]
    }
   ],
   "source": [
    "print(q_E1.qsize())\n",
    "print(q_E2.qsize())\n",
    "print(q_E3.qsize())\n",
    "print(q_C1.qsize())\n",
    "print(q_C2.qsize())"
   ]
  },
  {
   "cell_type": "code",
   "execution_count": 564,
   "id": "1887866a-b1d6-4504-b088-ec11b5a403bc",
   "metadata": {},
   "outputs": [
    {
     "name": "stdout",
     "output_type": "stream",
     "text": [
      "-10.427528675703858\n",
      "4.0\n",
      "8.004\n",
      "4.109374999999999\n"
     ]
    }
   ],
   "source": [
    "print(Tproc[1])\n",
    "print(Latency[1])\n",
    "print(Execution_Time[1])\n",
    "print(Cost_Function[1])"
   ]
  },
  {
   "cell_type": "code",
   "execution_count": 565,
   "id": "535dc7c5-f988-406b-80be-e6fb3e96259c",
   "metadata": {},
   "outputs": [
    {
     "name": "stdout",
     "output_type": "stream",
     "text": [
      "-5.027652086475616\n",
      "3.0\n",
      "6.001\n",
      "6.149047851562499\n"
     ]
    }
   ],
   "source": [
    "\n",
    "print(Tproc[2])\n",
    "print(Latency[2])\n",
    "print(Execution_Time[2])\n",
    "print(Cost_Function[2])\n"
   ]
  },
  {
   "cell_type": "code",
   "execution_count": null,
   "id": "2aebfa7d-e828-48c7-857a-2412b02e271b",
   "metadata": {},
   "outputs": [],
   "source": []
  },
  {
   "cell_type": "code",
   "execution_count": 566,
   "id": "a2a9e0d1-51d0-4bfa-a3db-5a1895d66e4e",
   "metadata": {},
   "outputs": [
    {
     "name": "stdout",
     "output_type": "stream",
     "text": [
      "-10.214504596527068\n",
      "4.0\n",
      "8.002\n",
      "6.1370361328125\n"
     ]
    }
   ],
   "source": [
    "\n",
    "print(Tproc[3])\n",
    "print(Latency[3])\n",
    "print(Execution_Time[3])\n",
    "print(Cost_Function[3])"
   ]
  },
  {
   "cell_type": "code",
   "execution_count": 567,
   "id": "2da3676f-323d-4a1f-99f3-0747046d5504",
   "metadata": {},
   "outputs": [
    {
     "name": "stdout",
     "output_type": "stream",
     "text": [
      "-20.876826722338205\n",
      "4.0\n",
      "8.002\n",
      "24.52060546875\n"
     ]
    }
   ],
   "source": [
    "\n",
    "print(Tproc[4])\n",
    "print(Latency[4])\n",
    "print(Execution_Time[4])\n",
    "print(Cost_Function[4])"
   ]
  },
  {
   "cell_type": "code",
   "execution_count": 568,
   "id": "bcf2e7de-0c0b-4ec9-bcf8-b9ab00e96ad3",
   "metadata": {},
   "outputs": [
    {
     "name": "stdout",
     "output_type": "stream",
     "text": [
      "-23.86634844868735\n",
      "0.0\n",
      "0.0\n",
      "0.0\n"
     ]
    }
   ],
   "source": [
    "\n",
    "print(Tproc[5])\n",
    "print(Latency[5])\n",
    "print(Execution_Time[5])\n",
    "print(Cost_Function[5])"
   ]
  },
  {
   "cell_type": "code",
   "execution_count": 569,
   "id": "9420c3d6-c575-4798-95a4-df9753e11f14",
   "metadata": {
    "scrolled": true
   },
   "outputs": [
    {
     "name": "stdout",
     "output_type": "stream",
     "text": [
      "4.091606445312499\n",
      "3.0009\n",
      "0.5\n"
     ]
    }
   ],
   "source": [
    "uti=0\n",
    "for t in range(1,5):\n",
    "    Cost+=Cost_Function[t]\n",
    "    Delay+=Execution_Time[t]\n",
    "    uti+=utilization[t-1]\n",
    "    \n",
    "Delay=Delay/M\n",
    "Cost=Cost/M\n",
    "uti=uti/M\n",
    "print(Cost)\n",
    "print(Delay)\n",
    "print(uti)"
   ]
  },
  {
   "cell_type": "code",
   "execution_count": null,
   "id": "2a26a651-e9eb-4788-853d-6606ee7bdef4",
   "metadata": {},
   "outputs": [],
   "source": []
  },
  {
   "cell_type": "code",
   "execution_count": null,
   "id": "2fc24a5d-e29a-47bd-97da-a73dba8fdac5",
   "metadata": {},
   "outputs": [],
   "source": []
  },
  {
   "cell_type": "code",
   "execution_count": null,
   "id": "5adf1c17-7585-46cf-be3b-a03df43ccaa7",
   "metadata": {},
   "outputs": [],
   "source": []
  }
 ],
 "metadata": {
  "kernelspec": {
   "display_name": "Python 3 (ipykernel)",
   "language": "python",
   "name": "python3"
  },
  "language_info": {
   "codemirror_mode": {
    "name": "ipython",
    "version": 3
   },
   "file_extension": ".py",
   "mimetype": "text/x-python",
   "name": "python",
   "nbconvert_exporter": "python",
   "pygments_lexer": "ipython3",
   "version": "3.12.3"
  }
 },
 "nbformat": 4,
 "nbformat_minor": 5
}
